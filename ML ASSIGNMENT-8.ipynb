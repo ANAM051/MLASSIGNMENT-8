{
 "cells": [
  {
   "cell_type": "markdown",
   "id": "080a4177",
   "metadata": {},
   "source": [
    "1. What exactly is a feature? Give an example to illustrate your point.\n",
    "2. What are the various circumstances in which feature construction is required?\n",
    "3. Describe how nominal variables are encoded.\n",
    "\n",
    "4. Describe how numeric features are converted to categorical features.\n",
    "\n",
    "5. Describe the feature selection wrapper approach. State the advantages and disadvantages of this\n",
    "approach?\n",
    "\n",
    "6. When is a feature considered irrelevant? What can be said to quantify it?\n",
    "\n",
    "7. When is a function considered redundant? What criteria are used to identify features that could\n",
    "be redundant?\n",
    "\n",
    "8. What are the various distance measurements used to determine feature similarity?\n",
    "\n",
    "9. State difference between Euclidean and Manhattan distances?\n",
    "\n",
    "10. Distinguish between feature transformation and feature selection.\n",
    "\n",
    "11. Make brief notes on any two of the following:\n",
    "\n",
    "1.SVD (Standard Variable Diameter Diameter)\n",
    "\n",
    "2. Collection of features using a hybrid approach\n",
    "\n",
    "3. The width of the silhouette\n",
    "\n",
    "4. Receiver operating characteristic curve"
   ]
  },
  {
   "cell_type": "markdown",
   "id": "14877b56",
   "metadata": {},
   "source": [
    "1.A measurable property that is used as an input in machine learning algorithm is called feature.In case of house price prediction size of ares is a feature."
   ]
  },
  {
   "cell_type": "markdown",
   "id": "1a3bbff5",
   "metadata": {},
   "source": [
    "2.feature construction is making new features from raw data.Circumstances where feature construction is required are:i.when data is very complex ii.raw data is missing some important information."
   ]
  },
  {
   "cell_type": "markdown",
   "id": "1d4ef787",
   "metadata": {},
   "source": [
    "3. one-hot encoding is done for nominal variables."
   ]
  },
  {
   "cell_type": "markdown",
   "id": "51243c05",
   "metadata": {},
   "source": [
    "4.Numeric features are converted to categorical features by assigning discrete labels to different ranges or intervals of the numeric values. This process is also known as discretization or binning"
   ]
  },
  {
   "cell_type": "markdown",
   "id": "371eddf3",
   "metadata": {},
   "source": [
    "5.The feature selection wrapper approach is a method that selects a subset of features based on the performance of a machine learning algorithm. It treats the feature selection as a search problem, where different combinations of features are evaluated and compared using a predefined criterion, such as accuracy, f1-score, or p-value.\n",
    "Advantages:t is more flexible and adaptable to different types of learning algorithms and evaluation criteria.\n",
    "It can capture the interactions and dependencies among features that may affect the predictive power of the model.\n",
    "It can achieve higher accuracy and lower complexity than using all features or using filter methods.\n",
    "Disadvantages:\n",
    "Leads to overfitting."
   ]
  },
  {
   "cell_type": "markdown",
   "id": "57991937",
   "metadata": {},
   "source": [
    "6.A feature is irrelevant if by changing value to a feature affect very less to the output.\n",
    "For quantification of a feature we have chisquare test,information gain,correlation coefficient."
   ]
  },
  {
   "cell_type": "markdown",
   "id": "917acd63",
   "metadata": {},
   "source": [
    "7.A function is considered redundant when it is expressed more than once, or when it can be replaced by another function without affecting the system’s performance or reliability. Redundancy can be intentional or unintentional, and it can have positive or negative effects depending on the context and the goal of the system.\n",
    "Criterias are:\n",
    "i.information gain(feature does not affect the prediction)\n",
    "ii.correlation(if two features are highly correlated that means they are redundant)\n",
    "iii.linear dependence"
   ]
  },
  {
   "cell_type": "markdown",
   "id": "658c5534",
   "metadata": {},
   "source": [
    "8.manhattan distance\n",
    "eucledian distance\n",
    "minkowski disstance"
   ]
  },
  {
   "cell_type": "markdown",
   "id": "b4e7cda8",
   "metadata": {},
   "source": [
    "9.Euclidean distance: This is the ordinary distance between two points in a geometric space, calculated by the Pythagorean theorem. It is also known as the L2 norm or the straight-line distance. For example, the Euclidean distance between (1, 2) and (4, 6) is (4−1)2+(6−2)2​=25​=5\n",
    "\n",
    "Manhattan distance: This is the sum of the absolute differences of the coordinates of two points, also known as the L1 norm or the city-block distance. For example, the Manhattan distance between (1, 2) and (4, 6) is ∣4−1∣+∣6−2∣=3+4=7"
   ]
  },
  {
   "cell_type": "markdown",
   "id": "2ae0a46f",
   "metadata": {},
   "source": [
    "10.Feature selection is the process of choosing a subset of the original features that are most relevant and useful for the machine learning task. The selected features should have high predictive power and low redundancy. Feature selection can reduce the noise, complexity, and computational cost of the model, as well as improve its interpretability.\n",
    "Feature transformation is the process of creating new features from the original ones, using some mathematical or statistical functions. The new features are often more informative, meaningful, or suitable for the machine learning algorithm.\n"
   ]
  },
  {
   "cell_type": "markdown",
   "id": "b4d53f24",
   "metadata": {},
   "source": []
  }
 ],
 "metadata": {
  "kernelspec": {
   "display_name": "Python 3 (ipykernel)",
   "language": "python",
   "name": "python3"
  },
  "language_info": {
   "codemirror_mode": {
    "name": "ipython",
    "version": 3
   },
   "file_extension": ".py",
   "mimetype": "text/x-python",
   "name": "python",
   "nbconvert_exporter": "python",
   "pygments_lexer": "ipython3",
   "version": "3.9.12"
  }
 },
 "nbformat": 4,
 "nbformat_minor": 5
}
